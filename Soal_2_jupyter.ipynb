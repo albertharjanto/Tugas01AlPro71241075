{
 "cells": [
  {
   "cell_type": "code",
   "execution_count": 1,
   "id": "88459e20-1bf8-4abf-a3d7-da5aa9b26d3b",
   "metadata": {},
   "outputs": [
    {
     "name": "stdout",
     "output_type": "stream",
     "text": [
      "Pembelian pertama:\n",
      "Keuntungan Gerard adalah Rp. 875000\n",
      "Keuntungan Gerard dalam persen adalah 5.38 %\n",
      "Pembelian kedua:\n",
      "Keuntungan Gerard adalah Rp. 2075000\n",
      "Keuntungan Gerard dalam persen adalah 7.82 %\n"
     ]
    }
   ],
   "source": [
    "hargaemaspergram1 = 650000\n",
    "hargaemaspergram2 = 685000\n",
    "hargaemaspergram3 = 715000\n",
    "hargaemas1 = hargaemaspergram1 * 25\n",
    "hargaemas2 = hargaemaspergram2 * 25\n",
    "hargaemas3 = hargaemaspergram2 * 15\n",
    "hargaemas4 = hargaemaspergram3 * 40\n",
    "modal1 = hargaemas1\n",
    "modal2 = hargaemas1 + hargaemas3\n",
    "keuntungan1 = hargaemas2 - modal1\n",
    "keuntungan2 = hargaemas4 - modal2\n",
    "persen1 = (keuntungan1/modal1) * 100\n",
    "persen2 = (keuntungan2/modal2) * 100\n",
    "print(\"Pembelian pertama:\")\n",
    "print(\"Keuntungan Gerard adalah Rp.\", keuntungan1)\n",
    "print (f\"Keuntungan Gerard dalam persen adalah {round(persen1,2)} %\")\n",
    "print(\"Pembelian kedua:\")\n",
    "print(\"Keuntungan Gerard adalah Rp.\", keuntungan2)\n",
    "print(f\"Keuntungan Gerard dalam persen adalah {round(persen2,2)} %\")"
   ]
  },
  {
   "cell_type": "code",
   "execution_count": null,
   "id": "04fa90c3-7c7f-4a01-a354-a3af7408a57f",
   "metadata": {},
   "outputs": [],
   "source": []
  }
 ],
 "metadata": {
  "kernelspec": {
   "display_name": "Python 3 (ipykernel)",
   "language": "python",
   "name": "python3"
  },
  "language_info": {
   "codemirror_mode": {
    "name": "ipython",
    "version": 3
   },
   "file_extension": ".py",
   "mimetype": "text/x-python",
   "name": "python",
   "nbconvert_exporter": "python",
   "pygments_lexer": "ipython3",
   "version": "3.13.2"
  }
 },
 "nbformat": 4,
 "nbformat_minor": 5
}
