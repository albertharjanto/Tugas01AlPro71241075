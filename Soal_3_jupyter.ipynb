{
 "cells": [
  {
   "cell_type": "code",
   "execution_count": 1,
   "id": "5ddca031-077e-4b40-ab4e-8a87e752992f",
   "metadata": {},
   "outputs": [
    {
     "name": "stdout",
     "output_type": "stream",
     "text": [
      "Waktu yang dibutuhkan agar uang menjadi minimal 400000000 adalah 8 tahun.\n",
      "Saldo akhir di tahun ke-8 adalah sekitar 428717762.0 rupiah.\n"
     ]
    }
   ],
   "source": [
    "saldoawal = 200000000\n",
    "saldotarget = 400000000\n",
    "bungatahunan = 0.1\n",
    "tahun = 0\n",
    "saldoakhir = saldoawal\n",
    "while saldoakhir <= saldotarget:\n",
    "    saldoakhir += saldoakhir * bungatahunan\n",
    "    tahun += 1\n",
    "print(f\"Waktu yang dibutuhkan agar uang menjadi minimal {saldotarget} adalah {tahun} tahun.\")\n",
    "print(f\"Saldo akhir di tahun ke-{tahun} adalah sekitar {saldoakhir} rupiah.\")"
   ]
  },
  {
   "cell_type": "code",
   "execution_count": null,
   "id": "4d23f25c-857a-4a1b-a294-fe743e828ad1",
   "metadata": {},
   "outputs": [],
   "source": []
  }
 ],
 "metadata": {
  "kernelspec": {
   "display_name": "Python 3 (ipykernel)",
   "language": "python",
   "name": "python3"
  },
  "language_info": {
   "codemirror_mode": {
    "name": "ipython",
    "version": 3
   },
   "file_extension": ".py",
   "mimetype": "text/x-python",
   "name": "python",
   "nbconvert_exporter": "python",
   "pygments_lexer": "ipython3",
   "version": "3.13.2"
  }
 },
 "nbformat": 4,
 "nbformat_minor": 5
}
